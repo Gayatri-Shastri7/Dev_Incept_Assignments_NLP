{
  "nbformat": 4,
  "nbformat_minor": 0,
  "metadata": {
    "colab": {
      "name": "Untitled10.ipynb",
      "provenance": []
    },
    "kernelspec": {
      "name": "python3",
      "display_name": "Python 3"
    },
    "language_info": {
      "name": "python"
    }
  },
  "cells": [
    {
      "cell_type": "code",
      "metadata": {
        "id": "_tladWOg1b3o"
      },
      "source": [
        "### SENTIMENT ANALYSIS USING NLP APPROACH TO DETECT SARCASM  "
      ],
      "execution_count": 1,
      "outputs": []
    },
    {
      "cell_type": "code",
      "metadata": {
        "id": "8EuHaPsC1srq"
      },
      "source": [
        "###Import all the required libraries.**\n",
        "\n",
        "import tensorflow as tf\n",
        "from tensorflow import keras\n",
        "from tensorflow.keras.preprocessing.text import Tokenizer\n",
        "from tensorflow.keras.preprocessing.sequence import pad_sequences\n",
        "import json\n",
        "import numpy as np\n",
        "import matplotlib.pyplot as plt\n"
      ],
      "execution_count": 4,
      "outputs": []
    },
    {
      "cell_type": "code",
      "metadata": {
        "id": "wHFk_G_v1vTo"
      },
      "source": [
        "#creating empty lists to store the data items from the dataset\n",
        "sentences = []\n",
        "labels = [] \n",
        "urls = []\n",
        "\n",
        "link = \"https://raw.githubusercontent.com/rishabhmisra/News-Headlines-Dataset-For-Sarcasm-Detection/master/Sarcasm_Headlines_Dataset.json\"\n",
        "#This function will yeild data from  the json file by reading through it\n",
        "def parse_data(link):\n",
        "    for l in open(link,'r'):\n",
        "        yield json.loads(l)\n",
        "\n",
        "#this line will parse the yeilded json data so that we can further use it to process\n",
        "data = parse_data('/content/sample_data/Sarcasm_Headlines_Dataset.json')\n",
        "\n",
        "#looping through the data parsed above and appending into the python arrays created\n",
        "for item in data:\n",
        "  sentences.append(item['headline'])\n",
        "  labels.append(item['is_sarcastic'])\n",
        "  urls.append(item['article_link'])"
      ],
      "execution_count": 8,
      "outputs": []
    },
    {
      "cell_type": "code",
      "metadata": {
        "id": "Vc2TaH9Q2Yry"
      },
      "source": [
        "#defining the parameters for our model to build, in future if needed to change we can do it from here\n",
        "vocab_size = 10000\n",
        "embedding_dimension = 16\n",
        "max_length = 100\n",
        "trunc_type = 'post'\n",
        "padding_type = 'post'             \n",
        "oov_tok = '<OOV>'                  \n",
        "training_size = 20000\n",
        "\n",
        "#Training & Testing sentences\n",
        "training_sentences = sentences[0:training_size]\n",
        "testing_sentences = sentences[training_size:]\n",
        "\n",
        "#Training & Testing labels\n",
        "training_labels = labels[0:training_size]\n",
        "testing_labels = labels[training_size:]"
      ],
      "execution_count": 9,
      "outputs": []
    },
    {
      "cell_type": "code",
      "metadata": {
        "id": "0waS422D3Wqa"
      },
      "source": [
        "# Pre-process the data for training a neural network"
      ],
      "execution_count": 10,
      "outputs": []
    },
    {
      "cell_type": "code",
      "metadata": {
        "id": "Zhjs-ttX3Zxa"
      },
      "source": [
        "#In this we step of pre-processing we do these steps:-\n",
        "#- **Tokenize** the text. [**Tokenizer class** allows to vectorize a text corpus, by turning each text into either a sequence of integers (each integer being the index of a token in a dictionary) or into a vector where the coefficient for each token could be binary, based on word count]<br>\n",
        "#- Then use **fit_on_texts** function to fit the vocabulary size of the training sentences\n",
        "#- Then create **sequences** of the tokens created in the previous step and outputs a python array of numberes with sequences of the tokens that represent the sentence numnerically in our defined way.\n",
        "#- Then **pad** the sequences with zeros incase any sequence is short, as it may happen because all sentences are not of the same size.\n"
      ],
      "execution_count": 11,
      "outputs": []
    },
    {
      "cell_type": "code",
      "metadata": {
        "id": "5GJeVPsr3gm0"
      },
      "source": [
        " # OOV tokens are the out-of-vocabulary words which could be encountered during tokenization\n",
        "tokenizer = Tokenizer(num_words=vocab_size, oov_token=oov_tok)  \n",
        "\n",
        "#this will fit the text with num_words on input sentences\n",
        "tokenizer.fit_on_texts(training_sentences)\n",
        "\n",
        "#this will create a word index dictionary of indexing of tokens.\n",
        "word_index = tokenizer.word_index\n",
        "\n",
        "#this creates sequences of tokens and outputs a python array with sequences of tokens repersenting the sentence\n",
        "training_sequences = tokenizer.texts_to_sequences(training_sentences)\n",
        "\n",
        "#this will padd the sequences with zero who has a short sequences\n",
        "training_padded = pad_sequences(training_sequences, maxlen=max_length, padding=padding_type, truncating=trunc_type)  \n",
        "\n",
        "\n",
        "#this creates sequences of tokens and outputs a python array with sequences of tokens repersenting the sentence\n",
        "testing_sequences = tokenizer.texts_to_sequences(testing_sentences)\n",
        "\n",
        "#this will padd the sequences with zero who has a short sequences\n",
        "testing_padded = pad_sequences(testing_sequences, maxlen=max_length, padding=padding_type, truncating=trunc_type)"
      ],
      "execution_count": 12,
      "outputs": []
    },
    {
      "cell_type": "code",
      "metadata": {
        "id": "CrXVwJnj3j1b"
      },
      "source": [
        "#Next step of pre-processing is the final step in this we just convert the test & train sequences to numpy array in order to feede them to our neural network."
      ],
      "execution_count": 14,
      "outputs": []
    },
    {
      "cell_type": "code",
      "metadata": {
        "id": "QTcAV7Xm3pFN"
      },
      "source": [
        "training_padded = np.array(training_padded)\n",
        "training_labels = np.array(training_labels)\n",
        "testing_padded = np.array(testing_padded)\n",
        "testing_labels = np.array(testing_labels)"
      ],
      "execution_count": 15,
      "outputs": []
    },
    {
      "cell_type": "code",
      "metadata": {
        "id": "q9XtHHvk3rIL"
      },
      "source": [
        "# Build the model"
      ],
      "execution_count": 16,
      "outputs": []
    },
    {
      "cell_type": "code",
      "metadata": {
        "colab": {
          "base_uri": "https://localhost:8080/",
          "height": 137
        },
        "id": "ZnN5TduH3t4e",
        "outputId": "91d7b5db-56bf-4c47-816d-491c487c6649"
      },
      "source": [
        "'''\n",
        "Building a neural network is the most interesting thing and also boring at the same time. \n",
        "In this we will use the layers as follows:\n",
        "- **Embedding layer:** Turns positive integers (indexes) into dense vectors of fixed size.\n",
        "e.g. [[4], [20]] -> [[0.25, 0.1], [0.6, -0.2]].\n",
        "This layer can only be used as the first layer in a model.\n",
        "- **GlobalAveragePooling1D**\n",
        "- **Dense layer:** Just your regular densely-connected NN layer.Ie've used 24 units here, you can play around by trying to add more dense layers\n",
        "Dense implements the operation: output = activation(dot(input, kernel) + bias) where activation is the element-wise activation function passed as the activation argument, kernel is a weights matrix created by the layer, and bias is a bias vector created by the layer (only applicable if use_bias is True).\n",
        "- **Dense layer** - This is a final layer with only one unit as it is the ouput layer of the entire neural network and here we've used sigmoid activation function as sigmiod function gives better realistic values than relu  between 0 to 1.\n",
        "'''"
      ],
      "execution_count": 17,
      "outputs": [
        {
          "output_type": "execute_result",
          "data": {
            "application/vnd.google.colaboratory.intrinsic+json": {
              "type": "string"
            },
            "text/plain": [
              "\"\\nBuilding a neural network is the most interesting thing and also boring at the same time. \\nIn this we will use the layers as follows:\\n- **Embedding layer:** Turns positive integers (indexes) into dense vectors of fixed size.\\ne.g. [[4], [20]] -> [[0.25, 0.1], [0.6, -0.2]].\\nThis layer can only be used as the first layer in a model.\\n- **GlobalAveragePooling1D**\\n- **Dense layer:** Just your regular densely-connected NN layer.Ie've used 24 units here, you can play around by trying to add more dense layers\\nDense implements the operation: output = activation(dot(input, kernel) + bias) where activation is the element-wise activation function passed as the activation argument, kernel is a weights matrix created by the layer, and bias is a bias vector created by the layer (only applicable if use_bias is True).\\n- **Dense layer** - This is a final layer with only one unit as it is the ouput layer of the entire neural network and here we've used sigmoid activation function as sigmiod function gives better realistic values than relu  between 0 to 1.\\n\""
            ]
          },
          "metadata": {
            "tags": []
          },
          "execution_count": 17
        }
      ]
    },
    {
      "cell_type": "code",
      "metadata": {
        "id": "tzaXeraN34tm"
      },
      "source": [
        "model = tf.keras.Sequential([\n",
        "                             tf.keras.layers.Embedding(vocab_size,embedding_dimension,\n",
        "                                                       input_length=max_length),\n",
        "                             tf.keras.layers.GlobalAveragePooling1D(),\n",
        "                             tf.keras.layers.Dense(24,activation='relu'),\n",
        "                             tf.keras.layers.Dense(1,activation='sigmoid')\n",
        "])\n",
        "model.compile(loss='binary_crossentropy',optimizer='adam',metrics=['accuracy'])"
      ],
      "execution_count": 18,
      "outputs": []
    },
    {
      "cell_type": "code",
      "metadata": {
        "colab": {
          "base_uri": "https://localhost:8080/"
        },
        "id": "28CoKuS0371x",
        "outputId": "ef3087cb-dcef-43f3-8d54-dd74da305647"
      },
      "source": [
        "model.summary()"
      ],
      "execution_count": 19,
      "outputs": [
        {
          "output_type": "stream",
          "text": [
            "Model: \"sequential\"\n",
            "_________________________________________________________________\n",
            "Layer (type)                 Output Shape              Param #   \n",
            "=================================================================\n",
            "embedding (Embedding)        (None, 100, 16)           160000    \n",
            "_________________________________________________________________\n",
            "global_average_pooling1d (Gl (None, 16)                0         \n",
            "_________________________________________________________________\n",
            "dense (Dense)                (None, 24)                408       \n",
            "_________________________________________________________________\n",
            "dense_1 (Dense)              (None, 1)                 25        \n",
            "=================================================================\n",
            "Total params: 160,433\n",
            "Trainable params: 160,433\n",
            "Non-trainable params: 0\n",
            "_________________________________________________________________\n"
          ],
          "name": "stdout"
        }
      ]
    },
    {
      "cell_type": "code",
      "metadata": {
        "colab": {
          "base_uri": "https://localhost:8080/",
          "height": 69
        },
        "id": "1bswCZ-H39-N",
        "outputId": "ac2dd37e-6bc4-4960-8915-ba4f8d06447a"
      },
      "source": [
        "# Train the model \n",
        "'''\n",
        "Training your model will finally make the neural network work in action and after training we can then use it to predict new unseen values.<br>\n",
        "**This is how the basic neural network computation works**\n",
        "- Take input\n",
        "- Forwarad propogate\n",
        "- Predict values\n",
        "- Calculate loss/error\n",
        "- Back Propogate\n",
        "\n",
        "<img src = \"https://miro.medium.com/proxy/1*mTTmfdMcFlPtyu8__vRHOQ.gif\" height=400 width =600>\n",
        "'''\n"
      ],
      "execution_count": 20,
      "outputs": [
        {
          "output_type": "execute_result",
          "data": {
            "application/vnd.google.colaboratory.intrinsic+json": {
              "type": "string"
            },
            "text/plain": [
              "'\\nTraining your model will finally make the neural network work in action and after training we can then use it to predict new unseen values.<br>\\n**This is how the basic neural network computation works**\\n- Take input\\n- Forwarad propogate\\n- Predict values\\n- Calculate loss/error\\n- Back Propogate\\n\\n<img src = \"https://miro.medium.com/proxy/1*mTTmfdMcFlPtyu8__vRHOQ.gif\" height=400 width =600>\\n'"
            ]
          },
          "metadata": {
            "tags": []
          },
          "execution_count": 20
        }
      ]
    },
    {
      "cell_type": "code",
      "metadata": {
        "colab": {
          "base_uri": "https://localhost:8080/"
        },
        "id": "ALLoFbfL4FJQ",
        "outputId": "16b4166e-0b03-4ece-bda8-09ca00e03ce3"
      },
      "source": [
        "history = model.fit(training_padded, training_labels, epochs = 30,validation_data=(testing_padded,testing_labels),verbose=2)"
      ],
      "execution_count": 21,
      "outputs": [
        {
          "output_type": "stream",
          "text": [
            "Epoch 1/30\n",
            "625/625 - 3s - loss: 0.6609 - accuracy: 0.5946 - val_loss: 0.5670 - val_accuracy: 0.7098\n",
            "Epoch 2/30\n",
            "625/625 - 2s - loss: 0.4218 - accuracy: 0.8353 - val_loss: 0.3799 - val_accuracy: 0.8429\n",
            "Epoch 3/30\n",
            "625/625 - 2s - loss: 0.3063 - accuracy: 0.8776 - val_loss: 0.3801 - val_accuracy: 0.8246\n",
            "Epoch 4/30\n",
            "625/625 - 2s - loss: 0.2546 - accuracy: 0.9008 - val_loss: 0.3426 - val_accuracy: 0.8544\n",
            "Epoch 5/30\n",
            "625/625 - 2s - loss: 0.2205 - accuracy: 0.9143 - val_loss: 0.3491 - val_accuracy: 0.8566\n",
            "Epoch 6/30\n",
            "625/625 - 2s - loss: 0.1932 - accuracy: 0.9280 - val_loss: 0.3588 - val_accuracy: 0.8515\n",
            "Epoch 7/30\n",
            "625/625 - 2s - loss: 0.1706 - accuracy: 0.9370 - val_loss: 0.3674 - val_accuracy: 0.8539\n",
            "Epoch 8/30\n",
            "625/625 - 2s - loss: 0.1551 - accuracy: 0.9436 - val_loss: 0.3972 - val_accuracy: 0.8456\n",
            "Epoch 9/30\n",
            "625/625 - 2s - loss: 0.1392 - accuracy: 0.9496 - val_loss: 0.4016 - val_accuracy: 0.8508\n",
            "Epoch 10/30\n",
            "625/625 - 2s - loss: 0.1243 - accuracy: 0.9562 - val_loss: 0.4247 - val_accuracy: 0.8475\n",
            "Epoch 11/30\n",
            "625/625 - 2s - loss: 0.1125 - accuracy: 0.9611 - val_loss: 0.4459 - val_accuracy: 0.8457\n",
            "Epoch 12/30\n",
            "625/625 - 2s - loss: 0.1032 - accuracy: 0.9638 - val_loss: 0.4894 - val_accuracy: 0.8384\n",
            "Epoch 13/30\n",
            "625/625 - 2s - loss: 0.0931 - accuracy: 0.9683 - val_loss: 0.4986 - val_accuracy: 0.8413\n",
            "Epoch 14/30\n",
            "625/625 - 2s - loss: 0.0866 - accuracy: 0.9706 - val_loss: 0.5720 - val_accuracy: 0.8305\n",
            "Epoch 15/30\n",
            "625/625 - 2s - loss: 0.0798 - accuracy: 0.9742 - val_loss: 0.5655 - val_accuracy: 0.8374\n",
            "Epoch 16/30\n",
            "625/625 - 2s - loss: 0.0715 - accuracy: 0.9757 - val_loss: 0.5937 - val_accuracy: 0.8344\n",
            "Epoch 17/30\n",
            "625/625 - 2s - loss: 0.0690 - accuracy: 0.9765 - val_loss: 0.6275 - val_accuracy: 0.8311\n",
            "Epoch 18/30\n",
            "625/625 - 2s - loss: 0.0598 - accuracy: 0.9808 - val_loss: 0.6804 - val_accuracy: 0.8304\n",
            "Epoch 19/30\n",
            "625/625 - 2s - loss: 0.0547 - accuracy: 0.9832 - val_loss: 0.7098 - val_accuracy: 0.8284\n",
            "Epoch 20/30\n",
            "625/625 - 2s - loss: 0.0493 - accuracy: 0.9846 - val_loss: 0.7463 - val_accuracy: 0.8269\n",
            "Epoch 21/30\n",
            "625/625 - 2s - loss: 0.0481 - accuracy: 0.9852 - val_loss: 0.7868 - val_accuracy: 0.8252\n",
            "Epoch 22/30\n",
            "625/625 - 2s - loss: 0.0417 - accuracy: 0.9876 - val_loss: 0.8397 - val_accuracy: 0.8204\n",
            "Epoch 23/30\n",
            "625/625 - 2s - loss: 0.0392 - accuracy: 0.9885 - val_loss: 0.8838 - val_accuracy: 0.8198\n",
            "Epoch 24/30\n",
            "625/625 - 2s - loss: 0.0379 - accuracy: 0.9883 - val_loss: 0.9241 - val_accuracy: 0.8185\n",
            "Epoch 25/30\n",
            "625/625 - 2s - loss: 0.0327 - accuracy: 0.9908 - val_loss: 0.9931 - val_accuracy: 0.8156\n",
            "Epoch 26/30\n",
            "625/625 - 2s - loss: 0.0293 - accuracy: 0.9912 - val_loss: 0.9957 - val_accuracy: 0.8182\n",
            "Epoch 27/30\n",
            "625/625 - 2s - loss: 0.0277 - accuracy: 0.9918 - val_loss: 1.0329 - val_accuracy: 0.8131\n",
            "Epoch 28/30\n",
            "625/625 - 2s - loss: 0.0269 - accuracy: 0.9920 - val_loss: 1.0714 - val_accuracy: 0.8159\n",
            "Epoch 29/30\n",
            "625/625 - 2s - loss: 0.0228 - accuracy: 0.9940 - val_loss: 1.1209 - val_accuracy: 0.8150\n",
            "Epoch 30/30\n",
            "625/625 - 2s - loss: 0.0223 - accuracy: 0.9943 - val_loss: 1.1537 - val_accuracy: 0.8134\n"
          ],
          "name": "stdout"
        }
      ]
    },
    {
      "cell_type": "code",
      "metadata": {
        "colab": {
          "base_uri": "https://localhost:8080/",
          "height": 544
        },
        "id": "2PfZuzxv4Ird",
        "outputId": "34210ef8-b718-4191-8796-80f91bdb4163"
      },
      "source": [
        "def plot_graphs(history, string):\n",
        "  plt.plot(history.history[string])\n",
        "  plt.plot(history.history['val_'+string])\n",
        "  plt.xlabel(\"Epochs\")\n",
        "  plt.ylabel(string)\n",
        "  plt.legend([string,'val_'+string])\n",
        "  plt.show()\n",
        "\n",
        "plot_graphs(history,'accuracy')\n",
        "plot_graphs(history,'loss')"
      ],
      "execution_count": 22,
      "outputs": [
        {
          "output_type": "display_data",
          "data": {
            "image/png": "[encoded data removed]",
            "text/plain": [
              "<Figure size 432x288 with 1 Axes>"
            ]
          },
          "metadata": {
            "tags": [],
            "needs_background": "light"
          }
        },
        {
          "output_type": "display_data",
          "data": {
            "image/png": "[encoded data removed]",
            "text/plain": [
              "<Figure size 432x288 with 1 Axes>"
            ]
          },
          "metadata": {
            "tags": [],
            "needs_background": "light"
          }
        }
      ]
    },
    {
      "cell_type": "code",
      "metadata": {
        "colab": {
          "base_uri": "https://localhost:8080/"
        },
        "id": "HMuOu9br4XsP",
        "outputId": "d511f265-2799-44a3-e876-bcb27dbcff4b"
      },
      "source": [
        "sentences_to_predict = [ \"If stupidity was a profession then you’d be a billionaire.\",\n",
        "                        \"Don’t talk while I am interrupting!\",\n",
        "                        \"Today is bright and sunny day\"\n",
        "       \n",
        "]\n",
        "\n",
        "seq = tokenizer.texts_to_sequences(sentences_to_predict)\n",
        "\n",
        "pad = pad_sequences(seq,maxlen=max_length,padding=padding_type,\n",
        "                    truncating = trunc_type)\n",
        "print(model.predict(pad))\n"
      ],
      "execution_count": 23,
      "outputs": [
        {
          "output_type": "stream",
          "text": [
            "[[5.5275713e-09]\n",
            " [3.3077598e-03]\n",
            " [9.2208466e-06]]\n"
          ],
          "name": "stdout"
        }
      ]
    },
    {
      "cell_type": "code",
      "metadata": {
        "colab": {
          "base_uri": "https://localhost:8080/",
          "height": 86
        },
        "id": "j6J930-i4avN",
        "outputId": "7e613ebe-abf8-4753-99d0-2da1800e8827"
      },
      "source": [
        "'''\n",
        "As you can see here the three sentences differing from not a sarcastic one to sarcastic to most sarcastic the output gets higher and closer to 1 which is sarcastic sentence and the sentences that are just plain text are with values almost equal to 0 or near to 0.<br><br>\n",
        "We can from here save the model and create a system(GUI) if we want to make an interactive project.\n",
        "That's all, Thank you for staying and making it this far.<br>\n",
        "'''"
      ],
      "execution_count": 24,
      "outputs": [
        {
          "output_type": "execute_result",
          "data": {
            "application/vnd.google.colaboratory.intrinsic+json": {
              "type": "string"
            },
            "text/plain": [
              "\"\\nAs you can see here the three sentences differing from not a sarcastic one to sarcastic to most sarcastic the output gets higher and closer to 1 which is sarcastic sentence and the sentences that are just plain text are with values almost equal to 0 or near to 0.<br><br>\\nWe can from here save the model and create a system(GUI) if we want to make an interactive project.\\nThat's all, Thank you for staying and making it this far.<br>\\n\""
            ]
          },
          "metadata": {
            "tags": []
          },
          "execution_count": 24
        }
      ]
    }
  ]
}